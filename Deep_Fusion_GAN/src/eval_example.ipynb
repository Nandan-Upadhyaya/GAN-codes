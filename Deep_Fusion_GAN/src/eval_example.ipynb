{
 "cells": [
  {
   "cell_type": "code",
   "execution_count": 22,
   "id": "satisfactory-beverage",
   "metadata": {},
   "outputs": [],
   "source": [
    "import os\n",
    "import sys\n",
    "\n",
    "# Set up the Python path properly\n",
    "current_dir = os.path.dirname(os.path.abspath(\"__file__\"))\n",
    "parent_dir = os.path.dirname(current_dir)\n",
    "sys.path.append(parent_dir)  # Add the parent directory to sys.path\n",
    "\n",
    "import numpy as np\n",
    "import torch\n",
    "\n",
    "# Update imports to use relative paths or fix absolute paths\n",
    "from src.sample import sample, save_image  # Use relative import from parent directory\n",
    "from src.generator.model import Generator  # Use proper path\n",
    "from src.text_encoder.model import RNNEncoder\n",
    "from src.utils import create_loader"
   ]
  },
  {
   "cell_type": "code",
   "execution_count": 23,
   "id": "spectacular-participation",
   "metadata": {},
   "outputs": [],
   "source": [
    "device = torch.device(\"cuda\" if torch.cuda.is_available() else \"cpu\")"
   ]
  },
  {
   "cell_type": "code",
   "execution_count": 24,
   "id": "associate-madness",
   "metadata": {},
   "outputs": [
    {
     "name": "stderr",
     "output_type": "stream",
     "text": [
      "C:\\Users\\nanda\\AppData\\Local\\Temp\\ipykernel_3424\\1276995260.py:2: FutureWarning: You are using `torch.load` with `weights_only=False` (the current default value), which uses the default pickle module implicitly. It is possible to construct malicious pickle data which will execute arbitrary code during unpickling (See https://github.com/pytorch/pytorch/blob/main/SECURITY.md#untrusted-models for more details). In a future release, the default value for `weights_only` will be flipped to `True`. This limits the functions that could be executed during unpickling. Arbitrary objects will no longer be allowed to be loaded via this mode unless they are explicitly allowlisted by the user via `torch.serialization.add_safe_globals`. We recommend you start setting `weights_only=True` for any use case where you don't have full control of the loaded file. Please open an issue on GitHub for any issues related to this experimental feature.\n",
      "  generator.load_state_dict(torch.load(\"D:\\GAN-codes\\gen_weights\\gen_87.pth\", map_location=device))\n"
     ]
    }
   ],
   "source": [
    "generator = Generator(n_channels=32, latent_dim=100).to(device)\n",
    "generator.load_state_dict(torch.load(\"D:\\GAN-codes\\gen_weights\\gen_87.pth\", map_location=device))\n",
    "generator = generator.eval()"
   ]
  },
  {
   "cell_type": "code",
   "execution_count": 25,
   "id": "atlantic-insertion",
   "metadata": {},
   "outputs": [
    {
     "name": "stdout",
     "output_type": "stream",
     "text": [
      "Total filenames: 11788\n",
      "Load captions from: ../data\\captions.pickle\n",
      "Load file names from: ../data\\test\\filenames.pickle (2933)\n",
      "Dictionary size: 5450\n",
      "Embeddings number: 10\n"
     ]
    }
   ],
   "source": [
    "train_loader = create_loader(256, 24, \"../data\", \"test\")"
   ]
  },
  {
   "cell_type": "code",
   "execution_count": 26,
   "id": "bottom-concrete",
   "metadata": {},
   "outputs": [],
   "source": [
    "n_words = train_loader.dataset.n_words"
   ]
  },
  {
   "cell_type": "code",
   "execution_count": 27,
   "id": "worse-element",
   "metadata": {},
   "outputs": [
    {
     "name": "stderr",
     "output_type": "stream",
     "text": [
      "c:\\Users\\nanda\\miniconda3\\envs\\pytorch\\lib\\site-packages\\torch\\nn\\modules\\rnn.py:123: UserWarning: dropout option adds dropout after all but last recurrent layer, so non-zero dropout expects num_layers greater than 1, but got dropout=0.5 and num_layers=1\n",
      "  warnings.warn(\n",
      "d:\\GAN-codes\\Deep_Fusion_GAN\\src\\text_encoder\\model.py:61: FutureWarning: You are using `torch.load` with `weights_only=False` (the current default value), which uses the default pickle module implicitly. It is possible to construct malicious pickle data which will execute arbitrary code during unpickling (See https://github.com/pytorch/pytorch/blob/main/SECURITY.md#untrusted-models for more details). In a future release, the default value for `weights_only` will be flipped to `True`. This limits the functions that could be executed during unpickling. Arbitrary objects will no longer be allowed to be loaded via this mode unless they are explicitly allowlisted by the user via `torch.serialization.add_safe_globals`. We recommend you start setting `weights_only=True` for any use case where you don't have full control of the loaded file. Please open an issue on GitHub for any issues related to this experimental feature.\n",
      "  state_dict = torch.load(weights_path, map_location=lambda storage, loc: storage)\n"
     ]
    }
   ],
   "source": [
    "text_encoder = RNNEncoder.load(r\"D:\\GAN-codes\\Deep_Fusion_GAN\\text_encoder_weights\\text_encoder.pth\", n_words)\n",
    "text_encoder.to(device)\n",
    "\n",
    "for p in text_encoder.parameters():\n",
    "    p.requires_grad = False\n",
    "text_encoder = text_encoder.eval()"
   ]
  },
  {
   "cell_type": "code",
   "execution_count": 28,
   "id": "elegant-government",
   "metadata": {},
   "outputs": [
    {
     "name": "stdout",
     "output_type": "stream",
     "text": [
      "CPU times: total: 1.03 s\n",
      "Wall time: 1.06 s\n"
     ]
    }
   ],
   "source": [
    "%%time\n",
    "sample(generator, text_encoder, next(iter(train_loader)), \"../gen_images\")"
   ]
  },
  {
   "cell_type": "markdown",
   "id": "shared-pennsylvania",
   "metadata": {},
   "source": [
    "# Own birds"
   ]
  },
  {
   "cell_type": "code",
   "execution_count": 29,
   "id": "instant-climate",
   "metadata": {},
   "outputs": [],
   "source": [
    "dataset = train_loader.dataset"
   ]
  },
  {
   "cell_type": "code",
   "execution_count": 30,
   "id": "forced-cotton",
   "metadata": {},
   "outputs": [],
   "source": [
    "def gen_own_bird(word_caption, name):\n",
    "    codes = [dataset.word2code[w] for w in word_caption.lower().split()]\n",
    "    \n",
    "    caption = np.array(codes)\n",
    "    pad_caption = np.zeros((18, 1), dtype='int64')\n",
    "\n",
    "    if len(caption) <= 18:\n",
    "        pad_caption[:len(caption), 0] = caption\n",
    "        len_ = len(caption)\n",
    "    else:\n",
    "        indices = list(np.arange(len(caption)))\n",
    "        np.random.shuffle(indices)\n",
    "        pad_caption[:, 0] = caption[np.sort(indices[:18])]\n",
    "        len_ = 18\n",
    "\n",
    "    # Move tensors to the same device as the model (device global variable)\n",
    "    embed = text_encoder(torch.tensor(pad_caption, device=device).reshape(1, -1), \n",
    "                          torch.tensor([len_], device=device))\n",
    "    batch_size = embed.shape[0]\n",
    "    noise = torch.randn(batch_size, 100).to(device)\n",
    "    img = generator(noise, embed)\n",
    "    save_image(img[0].data.cpu().numpy(), \"../gen_images\", name)"
   ]
  },
  {
   "cell_type": "code",
   "execution_count": 43,
   "id": "laughing-miami",
   "metadata": {},
   "outputs": [],
   "source": [
    "caption = \"A black and white bird with a long beak and a yellow belly\"\n",
    "gen_own_bird(caption, caption)"
   ]
  },
  {
   "cell_type": "markdown",
   "id": "9ef6b1c7",
   "metadata": {},
   "source": []
  },
  {
   "cell_type": "code",
   "execution_count": null,
   "metadata": {
    "collapsed": false,
    "pycharm": {
     "name": "#%%\n"
    }
   },
   "outputs": [],
   "source": []
  },
  {
   "cell_type": "code",
   "execution_count": null,
   "metadata": {
    "collapsed": false,
    "pycharm": {
     "name": "#%%\n"
    }
   },
   "outputs": [],
   "source": []
  }
 ],
 "metadata": {
  "kernelspec": {
   "display_name": "pytorch",
   "language": "python",
   "name": "python3"
  },
  "language_info": {
   "codemirror_mode": {
    "name": "ipython",
    "version": 3
   },
   "file_extension": ".py",
   "mimetype": "text/x-python",
   "name": "python",
   "nbconvert_exporter": "python",
   "pygments_lexer": "ipython3",
   "version": "3.10.16"
  }
 },
 "nbformat": 4,
 "nbformat_minor": 5
}
